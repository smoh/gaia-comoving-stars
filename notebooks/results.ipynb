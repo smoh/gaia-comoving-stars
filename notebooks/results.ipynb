{
 "cells": [
  {
   "cell_type": "code",
   "execution_count": null,
   "metadata": {
    "collapsed": false
   },
   "outputs": [],
   "source": [
    "%pylab inline\n",
    "import h5py\n",
    "# import fitsio\n",
    "import astropy.units as u\n",
    "from astropy.io import fits\n",
    "from astropy.table import Table\n",
    "from astropy.visualization import hist\n",
    "from astropy import coordinates as coords\n",
    "from scipy import stats\n",
    "import networkx as nx\n",
    "\n",
    "import gwb"
   ]
  },
  {
   "cell_type": "code",
   "execution_count": null,
   "metadata": {
    "collapsed": false
   },
   "outputs": [],
   "source": [
    "style.use(['seaborn-colorblind', 'notebook.mplstyle'])"
   ]
  },
  {
   "cell_type": "markdown",
   "metadata": {},
   "source": [
    "# Load Data"
   ]
  },
  {
   "cell_type": "code",
   "execution_count": null,
   "metadata": {
    "collapsed": false
   },
   "outputs": [],
   "source": [
    "tgas = gwb.TGASData('../data/stacked_tgas.fits')"
   ]
  },
  {
   "cell_type": "code",
   "execution_count": null,
   "metadata": {
    "collapsed": false
   },
   "outputs": [],
   "source": [
    "pairidx_rand = fits.getdata('../output/random/snr8_random200000.fits')\n",
    "with h5py.File(\"../output/random/snr8_random200000_vscatter0-lratio.h5\") as f:\n",
    "    lnH1_rand = f['lnH1'].value\n",
    "    lnH2_rand = f['lnH2'].value\n",
    "    llr_rand = lnH1_rand - lnH2_rand\n",
    "# throw out nans\n",
    "bad = isnan(llr_rand)\n",
    "pairidx_rand = pairidx_rand[~bad]\n",
    "lnH1_rand = lnH1_rand[~bad]\n",
    "lnH2_rand = lnH2_rand[~bad]\n",
    "llr_rand = llr_rand[~bad]\n",
    "\n",
    "pairidx = fits.getdata('../output/23560/snr8_r10_dv10.fits')\n",
    "with h5py.File(\"../output/23560/snr8_r10_dv10_vscatter0-lratio.h5\") as f:\n",
    "    lnH1 = f['lnH1'].value\n",
    "    lnH2 = f['lnH2'].value\n",
    "    llr = lnH1 - lnH2"
   ]
  },
  {
   "cell_type": "code",
   "execution_count": null,
   "metadata": {
    "collapsed": false
   },
   "outputs": [],
   "source": [
    "# put quantities in arrays\n",
    "parallax_snr = tgas.parallax_snr\n",
    "vtan = tgas.get_vtan().value\n",
    "c = tgas.get_coord()\n",
    "d = tgas.get_distance().value\n",
    "\n",
    "star1, star2 = pairidx['star1'], pairidx['star2']\n",
    "min_snr = np.min(np.vstack((parallax_snr[star1], parallax_snr[star2])), axis=0)\n",
    "dvtan = norm(vtan[star1]-vtan[star2], axis=1)\n",
    "vtanmean = (vtan[star1] + vtan[star2])*0.5\n",
    "sep = c[star1].separation_3d(c[star2]).value\n",
    "sep_sky = c[star1].separation(c[star2])\n",
    "\n",
    "c1 = c[star1]\n",
    "c2 = c[star2]\n",
    "ra1, dec1 = c1.ra.value, c1.dec.value\n",
    "ra2, dec2 = c2.ra.value, c2.dec.value\n",
    "l1, b1 = c1.transform_to(coords.Galactic).l.value, c1.transform_to(coords.Galactic).b.value\n",
    "l2, b2 = c2.transform_to(coords.Galactic).l.value, c2.transform_to(coords.Galactic).b.value\n",
    "d1 = d[star1]\n",
    "d2 = d[star2]\n",
    "dmean = (d1+d2)*0.5"
   ]
  },
  {
   "cell_type": "code",
   "execution_count": null,
   "metadata": {
    "collapsed": false
   },
   "outputs": [],
   "source": [
    "print('total number of pairs examined =', pairidx.size)"
   ]
  },
  {
   "cell_type": "markdown",
   "metadata": {},
   "source": [
    "# Figure: Likelihood ratio histogram"
   ]
  },
  {
   "cell_type": "code",
   "execution_count": null,
   "metadata": {
    "collapsed": false
   },
   "outputs": [],
   "source": [
    "plot(pairidx['sep'], pairidx['delta_v'], 'k.', alpha=0.2, ms=3, rasterized=True)\n",
    "xlabel(r'separation [pc]')\n",
    "yl = ylabel(r'$|\\Delta \\boldsymbol{v}_{\\rm{t}}|$ [km s$^{-1}$]')\n",
    "\n",
    "from astropy.constants import G\n",
    "tmpsep = logspace(-3,1)\n",
    "v = sqrt(G*(2*u.solMass)/(tmpsep*u.pc)).to(u.km/u.s).value\n",
    "plot(tmpsep, v, label=r\"$v_\\mathrm{orb} (a)$\"\n",
    "     \"\\n\"\n",
    "     r\"(assuming $M=2\\,M_\\odot$)\", lw=2)\n",
    "legend(loc='upper left', fontsize=15, frameon=False)\n",
    "\n",
    "xscale('log')\n",
    "_ = yticks([0,2,4,6,8,10])\n",
    "tight_layout()\n",
    "savefig('../paper/figures/sep_dvtan.pdf', dpi=150)"
   ]
  },
  {
   "cell_type": "markdown",
   "metadata": {},
   "source": [
    "# Figure: likelihood ratio / sep-dvtan (NEW)"
   ]
  },
  {
   "cell_type": "code",
   "execution_count": null,
   "metadata": {
    "collapsed": true
   },
   "outputs": [],
   "source": [
    "v_cuts = [(0, 2.5), (2.5, 5), (5, 7.5), (7.5, 10)]\n",
    "v_colors = ['#7a0177', '#c51b8a', '#f768a1', '#fbb4b9']\n",
    "\n",
    "llr_cuts = [(-6, -2), (-2, 2), (2, 6), (6, 10)]\n",
    "llr_colors = ['#bae4bc', '#7bccc4', '#43a2ca', '#0868ac']"
   ]
  },
  {
   "cell_type": "code",
   "execution_count": null,
   "metadata": {
    "collapsed": false
   },
   "outputs": [],
   "source": [
    "fig ,ax = plt.subplots(2,2,figsize=(8,6), sharex='col')\n",
    "fig.subplots_adjust(left=0.1,bottom=0.12,top=0.97,right=0.97, hspace=0.07, wspace=0.24)\n",
    "ax[1,0].hist(llr,\n",
    "             bins=np.linspace(-6, 10, 64),\n",
    "             histtype='step', normed=True, linewidth=2,\n",
    "             color='k')\n",
    "\n",
    "_ = ax[1,0].hist(llr_rand, bins=linspace(-6,10,64),\n",
    "         color='0.8', normed=True, zorder=-1,\n",
    "         label='random pairs')\n",
    "\n",
    "ax[1,0].set_xlim(-6,10)\n",
    "ax[1,0].set_ylim(0, 0.36)\n",
    "ax[1,0].set_xlabel(r\"$\\ln(L_1/L_2)$\")\n",
    "ax[1,0].set_ylabel(\"density\")\n",
    "\n",
    "ax[1,1].set_xlim(4E-3, 1E1)\n",
    "ax[1,1].set_ylim(0, 10)\n",
    "ax[1,1].set_xlabel(r'separation [pc]')\n",
    "ax[1,1].set_xscale('log')\n",
    "ax[1,1].set_ylabel(r'$|\\Delta \\boldsymbol{v}_{\\rm{t}}|$ [km s$^{-1}$]')\n",
    "\n",
    "for i,(l,r) in enumerate(llr_cuts):\n",
    "    ax[1,0].fill_betweenx([ax[1,0].get_ylim()[1]*0.9,1.], l, r,\n",
    "                          color=llr_colors[i], zorder=-100)\n",
    "    idx = ((llr) > l) & (llr < r)\n",
    "    ax[1,1].plot(pairidx['sep'][idx], pairidx['delta_v'][idx],\n",
    "                 color=llr_colors[i], \n",
    "                 linestyle='none', marker='.', alpha=0.3, ms=3,\n",
    "                 markeredgecolor='none', markeredgewidth=0, rasterized=True)\n",
    "\n",
    "_ = ax[0,0].hist(llr_rand, bins=linspace(-6,10,64),\n",
    "         color='0.8', normed=True, zorder=-1,\n",
    "         label='random pairs')\n",
    "ax[0,1].plot(pairidx['sep'], pairidx['delta_v'],\n",
    "             color='k', linestyle='none', marker='.', zorder=-10, alpha=0.3, ms=3, rasterized=True)\n",
    "\n",
    "ax[0,0].set_xlim(-6,10)\n",
    "ax[0,0].set_ylim(0, 0.36)\n",
    "ax[0,0].set_ylabel(\"density\")\n",
    "ax[0,0].legend(loc='upper left', frameon=False, fontsize=15)\n",
    "\n",
    "ax[0,1].set_xlim(4E-3, 1E1)\n",
    "ax[0,1].set_ylim(0, 10)\n",
    "ax[0,1].set_xscale('log')\n",
    "ax[0,1].set_ylabel(r'$|\\Delta \\boldsymbol{v}_{\\rm{t}}|$ [km s$^{-1}$]')\n",
    "\n",
    "for i,(l,r) in enumerate(v_cuts):\n",
    "    xlims = ax[0,1].get_xlim()\n",
    "    xp10 = xlims[0]*2\n",
    "    ax[0,1].fill_between([0,xp10], l, r, color=v_colors[i], zorder=-100)\n",
    "\n",
    "    idx = (pairidx['delta_v'] > l) & (pairidx['delta_v'] < r)\n",
    "    ax[0,0].hist(llr[idx], bins=np.linspace(-6, 10, 64), \n",
    "                 histtype='step', normed=True, color=v_colors[i], linewidth=2);\n",
    "        \n",
    "# savefig('../paper/figures/likelihoodratios.pdf')"
   ]
  },
  {
   "cell_type": "code",
   "execution_count": null,
   "metadata": {
    "collapsed": false
   },
   "outputs": [],
   "source": [
    "cond_lr_cut = llr>6\n",
    "print('total number of pairs selected =', cond_lr_cut.sum(), 'sep < 1pc =', sum((sep<1)&cond_lr_cut))\n",
    "cmpairs = pairidx[cond_lr_cut]"
   ]
  },
  {
   "cell_type": "markdown",
   "metadata": {},
   "source": [
    "# Examine the network of pairs"
   ]
  },
  {
   "cell_type": "code",
   "execution_count": null,
   "metadata": {
    "collapsed": false
   },
   "outputs": [],
   "source": [
    "graph = nx.Graph()\n",
    "graph.add_edges_from(\n",
    "    [(i,j, {'lnL1/L2':ll}) for (i,j,dvtan,s), ll in zip(cmpairs, llr[llr>6])])"
   ]
  },
  {
   "cell_type": "code",
   "execution_count": null,
   "metadata": {
    "collapsed": false
   },
   "outputs": [],
   "source": [
    "connected = array([array(list(c)) for c in nx.connected_components(graph)])\n",
    "sizes = array([len(c) for c in nx.connected_components(graph)])\n",
    "print('number of nodes %i' % (len(graph)))\n",
    "print('total number of connected components %i' % (connected.size))\n",
    "print(min(sizes),max(sizes))"
   ]
  },
  {
   "cell_type": "code",
   "execution_count": null,
   "metadata": {
    "collapsed": false
   },
   "outputs": [],
   "source": [
    "nn_nodes = array([len(graph.neighbors(i)) for i in graph.nodes()])\n",
    "print('most connected star ind %i connection size %i' % (graph.nodes()[nn_nodes.argmax()], nn_nodes.max()))\n",
    "# print(tgas[graph.nodes()[nn_nodes.argmax()]]._data)"
   ]
  },
  {
   "cell_type": "code",
   "execution_count": null,
   "metadata": {
    "collapsed": true
   },
   "outputs": [],
   "source": [
    "tmass = fits.getdata('../data/tgas_tmassj.fits', ext=1)\n",
    "jhk = Table.read('result.vot', format='votable')"
   ]
  },
  {
   "cell_type": "code",
   "execution_count": null,
   "metadata": {
    "collapsed": false
   },
   "outputs": [],
   "source": [
    "mwsc = Table.read('../data/J_A+A_585_A101/catalog.dat', readme='../data/J_A+A_585_A101/ReadMe',\n",
    "                 format='ascii.cds')\n",
    "print('total number of mwsc', len(mwsc))\n",
    "print('number of mwsc d<600 pc', (mwsc['d']<600).sum())"
   ]
  },
  {
   "cell_type": "code",
   "execution_count": null,
   "metadata": {
    "collapsed": false
   },
   "outputs": [],
   "source": [
    "components = sorted(nx.connected_component_subgraphs(graph), key=len, reverse=True)\n",
    "\n",
    "comp_dict = {idx: comp.nodes() for idx, comp in enumerate(components)}\n",
    "attr = {n: comp_id for comp_id, nodes in comp_dict.items() for n in nodes}\n",
    "\n",
    "nx.set_node_attributes(graph, \"group_id\", attr)\n",
    "print(graph.nodes(data=True)[:3])"
   ]
  },
  {
   "cell_type": "markdown",
   "metadata": {},
   "source": [
    "## table stub"
   ]
  },
  {
   "cell_type": "code",
   "execution_count": null,
   "metadata": {
    "collapsed": true
   },
   "outputs": [],
   "source": [
    "stub = tt['star1 source id', 'star2 source id', 'sep', 'lnL1/L2', 'nid', 'nsize'][:10]"
   ]
  },
  {
   "cell_type": "code",
   "execution_count": null,
   "metadata": {
    "collapsed": false
   },
   "outputs": [],
   "source": [
    "stub['sep'].name = 'separation'\n",
    "stub['separation'].unit = u.pc\n",
    "stub['lnL1/L2'].name = '$\\ln \\mathcal{L}_1 /\\mathcal{L}_2$'\n",
    "stub['nid'].name = 'ID$_\\mathrm{network}$'\n",
    "stub['nsize'].name = '$N_\\mathrm{network}$'"
   ]
  },
  {
   "cell_type": "code",
   "execution_count": null,
   "metadata": {
    "collapsed": false
   },
   "outputs": [],
   "source": [
    "caption = r'Catalog of candidate co-moving pairs \\label{tab:catalog}'\n",
    "tablefoot = r'\\tablecomments{Table 1 is published in its entirety in the machine-readable format. A portion is shown here for guidance regarding its form and content.}'\n",
    "\n",
    "stub.write('../paper/stub.tex', format='ascii.aastex',\n",
    "           caption=caption, latexdict=dict(tablefoot=tablefoot))"
   ]
  },
  {
   "cell_type": "code",
   "execution_count": null,
   "metadata": {
    "collapsed": false,
    "scrolled": false
   },
   "outputs": [],
   "source": [
    "counts,_,_ = hist(sizes, bins=arange(1.5,10.6,1), log=True,\n",
    "                  histtype='bar', color='k', facecolor='None', edgecolor='k', lw=1.5)\n",
    "print(counts.sum())\n",
    "xlim(1.5, 11.5)\n",
    "xticks([2,3,4,5,6,7,8,9,10,11])\n",
    "xlabel('size of connected component')\n",
    "ylabel('count')\n",
    "text(0.95, 0.95, '%i with size $>$ 10 not shown' % ((sizes>10).sum()),\n",
    "     transform=gca().transAxes, va='top', ha='right', size=15)\n",
    "\n",
    "# [i.set_linewidth(2) for i in gca().spines.values()]\n",
    "# gca().tick_params(axis='both', which='major', size=8)\n",
    "# gca().tick_params(axis='both', which='minor', size=4)\n",
    "tight_layout()\n",
    "savefig('../paper/figures/dist_networksize.pdf')"
   ]
  },
  {
   "cell_type": "code",
   "execution_count": null,
   "metadata": {
    "collapsed": false
   },
   "outputs": [],
   "source": [
    "# sorted list of subgraphs from largest to smallest\n",
    "Gc = array(sorted(nx.connected_component_subgraphs(graph), key=len, reverse=True))\n",
    "sizes = array([len(g) for g in Gc])"
   ]
  },
  {
   "cell_type": "code",
   "execution_count": null,
   "metadata": {
    "collapsed": false,
    "scrolled": false
   },
   "outputs": [],
   "source": [
    "# graph visualization of selected groups\n",
    "from mpl_toolkits.axes_grid1 import ImageGrid\n",
    "import matplotlib.gridspec as gridspec\n",
    "\n",
    "def set_line_alpha(ax):\n",
    "    linecollection = ax.collections[1]\n",
    "    linecollection.set_alpha(0.5)\n",
    "\n",
    "fig = figure(figsize=(10,4))\n",
    "fig.subplots_adjust(top=0.95, right=0.98, bottom=0.17, left=0.08)\n",
    "ax0 = subplot(121)\n",
    "g = Gc[0]\n",
    "# pos = {node:(tgas.l[node], d[node]) for node in g.nodes()}\n",
    "pos = {node:(tgas.ra.value[node], tgas.dec.value[node]) for node in g.nodes()}\n",
    "nx.draw_networkx(g, pos=pos, node_size=10, width=.5, with_labels=False, alpha=1)\n",
    "set_line_alpha(ax0)\n",
    "xlabel(r'$\\alpha$ [deg]')\n",
    "ylabel(r'$\\delta$ [deg]')\n",
    "text(0.05, 0.05, 'size=%i\\n%i edges' % (len(g), len(g.edges())),\n",
    "     transform=gca().transAxes, va='bottom', ha='left', size=20)\n",
    "\n",
    "grid = gridspec.GridSpec(2,2)\n",
    "grid.update(left=0.54, right=0.98, wspace=0.25)\n",
    "ax = [subplot(i) for i in grid]\n",
    "for i, gi in enumerate([6,13,37,51]):\n",
    "    g = Gc[gi]\n",
    "#     pos = {node:(tgas.l[node], d[node]) for node in g.nodes()}\n",
    "    pos = {node:(tgas.ra.value[node], tgas.dec.value[node]) for node in g.nodes()}\n",
    "    nx.draw_networkx(g, pos=pos, node_size=10, width=.5, with_labels=False, ax=ax[i])\n",
    "    ax[i].xaxis.set_major_locator(MaxNLocator(nbins=5,prune='both'))\n",
    "    ax[i].yaxis.set_major_locator(MaxNLocator(nbins=5,prune='both'))\n",
    "    ax[i].text(0.95, 0.05, 'size=%i\\n%i edges' % (len(g), len(g.edges())),\n",
    "               transform=ax[i].transAxes, va='bottom', ha='right', size=15)\n",
    "    ax[i].tick_params(which='both', labelsize=15)\n",
    "    set_line_alpha(ax[i])\n",
    "\n",
    "ax[0].set_xticks([128, 130, 132])\n",
    "# savefig('../paper/figures/graphviz_examples.pdf')\n",
    "# savefig('../paper/figures/graphviz_examples.png', dpi=150)"
   ]
  },
  {
   "cell_type": "code",
   "execution_count": null,
   "metadata": {
    "collapsed": false,
    "scrolled": true
   },
   "outputs": [],
   "source": [
    "mwsc = Table.read('../data/J_A+A_585_A101/catalog.dat', readme='../data/J_A+A_585_A101/ReadMe',\n",
    "                 format='ascii.cds')\n",
    "print('total number of mwsc', len(mwsc))\n",
    "print('number of mwsc d<600 pc', (mwsc['d']<600).sum())"
   ]
  },
  {
   "cell_type": "code",
   "execution_count": null,
   "metadata": {
    "collapsed": false
   },
   "outputs": [],
   "source": [
    "obass = Table.read('../data/J_AJ_117_354/tablec1.dat', readme='../data/J_AJ_117_354/ReadMe',\n",
    "                    format='ascii.cds')\n",
    "print('OB association stars', len(obass))\n",
    "\n",
    "from astroquery.simbad import Simbad\n",
    "\n",
    "# query simbad on HIP id's to get coordinates\n",
    "customSimbad = Simbad()\n",
    "customSimbad.add_votable_fields('sptype', 'parallax')\n",
    "result = customSimbad.query_objects(['HIP %i' % hip for hip in obass['HIP']])\n",
    "print( unique([s.decode(\"utf-8\")[0] if len(s)>0 else '?' for s in result['SP_TYPE']]) )\n",
    "\n",
    "def get_distance(parallax, parallax_error):\n",
    "    \"\"\"\n",
    "    Return the distance [kpc] point estimate with the Lutz-Kelker correction\n",
    "    \n",
    "    parallax : float, in mas\n",
    "    parallax_error : float, in mas\n",
    "    \"\"\"\n",
    "    snr = parallax / parallax_error\n",
    "    pnew = parallax * (0.5 + 0.5*np.sqrt(1 - 16./snr**2))\n",
    "    # if snr<4, the value will be maksed\n",
    "    return 1./pnew\n",
    "\n",
    "obass_dist = get_distance(result['PLX_VALUE'], result['PLX_ERROR'])\n",
    "obass_c = coords.SkyCoord(result['RA'], result['DEC'], unit=(u.hourangle, u.deg),\n",
    "                          distance=obass_dist*u.kpc)\n",
    "obass_cg = obass_c.transform_to(coords.Galactic)"
   ]
  },
  {
   "cell_type": "code",
   "execution_count": null,
   "metadata": {
    "collapsed": false
   },
   "outputs": [],
   "source": [
    "import palettable\n",
    "from itertools import cycle\n",
    "colorloop = cycle(palettable.tableau.Tableau_20.hex_colors)\n",
    "\n",
    "fig = figure(figsize=(10,10))\n",
    "fig.subplots_adjust(top=0.95,bottom=0.04,right=0.93,left=0.05)\n",
    "\n",
    "ax = subplot(111)\n",
    "ax.set_color_cycle(palettable.tableau.Tableau_20.mpl_colors)\n",
    "\n",
    "mwsc_close = mwsc[mwsc['d']<600]\n",
    "dx = 10\n",
    "clustercircles = [Circle((tmp.x.value, tmp.y.value), dx, zorder=-50,\n",
    "                         facecolor='#428bca', alpha=.5)\n",
    "                  for tmp in mwsc_cg.cartesian]\n",
    "[ax.add_patch(cc) for cc in clustercircles]\n",
    "\n",
    "h2, = ax.plot(obass_cg.cartesian.x.to(u.pc).value,\n",
    "              obass_cg.cartesian.y.to(u.pc).value,\n",
    "              c='b', mec='#7059ff', mew=1., marker='+', ls='None', zorder=-100)\n",
    "h1 = Line2D((0,1), (0,0), marker='o', linestyle='', ms=10, mfc='#428bca', alpha=.5)\n",
    "\n",
    "for g in Gc[::]:\n",
    "    if len(g) > 5:\n",
    "        pos = {node:(gx[node], gy[node])\n",
    "               for node in g.nodes()}\n",
    "        nx.draw_networkx(g, pos=pos, node_size=3, width=2, with_labels=False,\n",
    "#                          edge_color=mpl.colors.rgb2hex(cm.spectral(random.uniform())),\n",
    "                         edge_color=next(colorloop),\n",
    "                         node_color='k')\n",
    "    else:\n",
    "        pos = {node:(gx[node], gy[node])\n",
    "               for node in g.nodes()}\n",
    "        nx.draw_networkx_edges(g, pos=pos, width=1, with_labels=False,\n",
    "                               edge_color='k',alpha=.5)\n",
    "        \n",
    "\n",
    "\n",
    "\n",
    "legend = figlegend((h1, h2), ('star clusters ($r=10$ pc)', 'stars in OB Associations'), 'upper right',\n",
    "    numpoints=1, frameon=True, fontsize=20,\n",
    "    handletextpad=0, markerscale=2, scatterpoints=1, )\n",
    "legend.get_frame().set_facecolor('white')\n",
    "\n",
    "ax.spines['right'].set_visible(False)\n",
    "ax.spines['left'].set_visible(False)\n",
    "ax.spines['top'].set_visible(False)\n",
    "ax.spines['bottom'].set_visible(False)\n",
    "ax.set_xticks([])\n",
    "ax.set_yticks([])\n",
    "\n",
    "gridcircles = [Circle((0, 0), r, facecolor='None', linestyle='dotted', ec='k')\n",
    "               for r in [100, 200, 300]]\n",
    "[ax.add_patch(cc) for cc in gridcircles]\n",
    "[ax.text(r*cos(pi/4), r*sin(pi/4), '%.0f pc' % (r), size=20) for r in [100,200,300]]\n",
    "\n",
    "ax.axhline(0., c='k', ls='dotted')\n",
    "ax.axvline(0., c='k', ls='dotted')\n",
    "\n",
    "ax.set_xlim(-300,300)\n",
    "ax.set_ylim(-300,350)\n",
    "\n",
    "savefig('../paper/figures/glon_d_pie.pdf', dpi=150, )\n",
    "\n",
    "# close()"
   ]
  },
  {
   "cell_type": "code",
   "execution_count": null,
   "metadata": {
    "collapsed": false
   },
   "outputs": [],
   "source": [
    "rave = Table.read('../data/tgas_rave_RV.fits')"
   ]
  },
  {
   "cell_type": "code",
   "execution_count": null,
   "metadata": {
    "collapsed": false
   },
   "outputs": [],
   "source": [
    "matched_rave = ~rave['row_id'].mask\n",
    "print('total number of tgas+rave matches', matched_rave.sum())\n",
    "\n",
    "hrv = rave['HRV']\n",
    "ehrv = rave['eHRV'].data\n",
    "\n",
    "# rv1 = hrv[pairidx['star1']]\n",
    "# rv2 = hrv[pairidx['star2']]\n",
    "# drv = rv1 - rv2\n",
    "# edrv = hypot(ehrv[pairidx['star1']], ehrv[pairidx['star2']])\n",
    "# matched_rave1 = matched_rave[pairidx['star1']]\n",
    "# matched_rave2 = matched_rave[pairidx['star2']]\n",
    "# matched_rave12 = matched_rave1 & matched_rave2"
   ]
  },
  {
   "cell_type": "code",
   "execution_count": null,
   "metadata": {
    "collapsed": true
   },
   "outputs": [],
   "source": [
    "star1 = cmpairs['star1']\n",
    "star2 = cmpairs['star2']\n",
    "nsize = array([len(nx.node_connected_component(graph, s1)) for s1 in star1])"
   ]
  },
  {
   "cell_type": "code",
   "execution_count": null,
   "metadata": {
    "collapsed": false
   },
   "outputs": [],
   "source": [
    "((nsize==2) & (cmpairs['sep']>3)).sum()"
   ]
  },
  {
   "cell_type": "code",
   "execution_count": null,
   "metadata": {
    "collapsed": false
   },
   "outputs": [],
   "source": [
    "drv = hrv[star1] - hrv[star2]\n",
    "edrv = hypot(ehrv[star1], ehrv[star2])\n",
    "drv_edrv = drv/edrv\n",
    "cmrave = matched_rave[star1] & matched_rave[star2]"
   ]
  },
  {
   "cell_type": "code",
   "execution_count": null,
   "metadata": {
    "collapsed": false
   },
   "outputs": [],
   "source": [
    "print('number of pairs with RAVE', prod(matched_rave[vstack([star1,star2]).T], axis=1).sum())\n",
    "print('number of mutually exclusive pairs with RAVE',\n",
    "      prod(matched_rave[vstack([star1,star2]).T[nsize==2]], axis=1).sum())"
   ]
  },
  {
   "cell_type": "code",
   "execution_count": null,
   "metadata": {
    "collapsed": true
   },
   "outputs": [],
   "source": [
    "import pandas as pd\n",
    "from scipy import interpolate"
   ]
  },
  {
   "cell_type": "code",
   "execution_count": null,
   "metadata": {
    "collapsed": false
   },
   "outputs": [],
   "source": [
    "# separation vs RV difference\n",
    "# colors for two groups\n",
    "color_size2 = '#d95f02'\n",
    "color_sizelt2 = '#1b9e77'\n",
    "\n",
    "fig, ax = subplots(2, 1, figsize=(5, 8), sharex=True)\n",
    "fig.subplots_adjust(top=0.93, hspace=0.05, left=0.2, bottom=0.08, right=0.95)\n",
    "suptitle('%i pairs with RAVE RV' % cmrave.sum(), size=20, x=0.55)\n",
    "\n",
    "sca(ax[0])\n",
    "errorbar(cmpairs['sep'][cmrave & (nsize==2)], drv_edrv[cmrave & (nsize==2)],\n",
    "         fmt='.',color=color_size2, label='size=2 (mutually exclusive)')\n",
    "errorbar(cmpairs['sep'][cmrave & (nsize>2)], drv_edrv[cmrave & (nsize>2)],\n",
    "         fmt='^', mew=1, ms=4, mec=color_sizelt2, mfc='None', label='size$>$2',)\n",
    "axhline(-3, color='gray')\n",
    "axhline(3, color='gray')\n",
    "ylim(-20,20)\n",
    "# xscale('log')\n",
    "xlim(0,10)\n",
    "ylabel('$\\Delta v_r/\\sigma_{\\Delta v_r}$')\n",
    "\n",
    "legend(loc=(-0.03,0.75), frameon=False, numpoints=1, markerscale=2, fontsize=15, handletextpad=0)\n",
    "\n",
    "sca(ax[1])\n",
    "n=15  # each bin contains 2n+1 data points\n",
    "\n",
    "tmpsep = pd.Series(cmpairs['sep'][cmrave & (nsize==2)].astype('<f8'))\n",
    "bool3 = pd.Series((drv_edrv<3)[cmrave & (nsize==2)].astype('<f8'))\n",
    "isort = tmpsep.argsort()\n",
    "tmpsep_sort = tmpsep[isort]\n",
    "bool3_sort = bool3[isort]\n",
    "rollsep = tmpsep_sort.rolling(2*n+1, center=True)\n",
    "rollbool = bool3_sort.rolling(2*n+1, center=True)\n",
    "errors = vstack([\n",
    "    rollsep.median() - rollsep.min(),\n",
    "    rollsep.max() - rollsep.median()]).T[n:-n]\n",
    "\n",
    "errorbar(rollsep.median()[n:-n], rollbool.mean()[n:-n],\n",
    "         xerr=errors.T, fmt='.', color=color_size2)\n",
    "\n",
    "# fit spline\n",
    "# x = log10(rollsep.median()[n:-n])\n",
    "# y = rollbool.mean()[n:-n]\n",
    "# tck = interpolate.splrep(x, y, s=1, k=3)\n",
    "# xnew = logspace(-1, 1)\n",
    "# ynew = interpolate.splev(log10(xnew), tck, der=0, ext=3)\n",
    "# plot(xnew, ynew, 'b.-')\n",
    "\n",
    "tmpsep = pd.Series(cmpairs['sep'][cmrave & (nsize>2)].astype('<f8'))\n",
    "bool3 = pd.Series((drv_edrv<3)[cmrave & (nsize>2)].astype('<f8'))\n",
    "isort = tmpsep.argsort()\n",
    "tmpsep_sort = tmpsep[isort]\n",
    "bool3_sort = bool3[isort]\n",
    "rollsep = tmpsep_sort.rolling(2*n+1, center=True)\n",
    "rollbool = bool3_sort.rolling(2*n+1, center=True)\n",
    "errors = vstack([\n",
    "    rollsep.median() - rollsep.min(),\n",
    "    rollsep.max() - rollsep.median()]).T[n:-n]\n",
    "errorbar(rollsep.median()[n:-n], rollbool.mean()[n:-n],\n",
    "         xerr=errors.T, fmt='^', mew=1, ms=4, mec=color_sizelt2, mfc='None', ecolor=color_sizelt2, capsize=0)\n",
    "\n",
    "# xscale('log')\n",
    "ylim(0.,1.05)\n",
    "xlim(0,10)\n",
    "xlabel('separation [pc]')\n",
    "ylabel('$f(|\\Delta v_r/\\sigma_{\\Delta v_r}| < 3)$')\n",
    "# savefig('../paper/figures/raverv.pdf')"
   ]
  },
  {
   "cell_type": "code",
   "execution_count": null,
   "metadata": {
    "collapsed": false
   },
   "outputs": [],
   "source": [
    "# separation distribution\n",
    "from astropy import stats as astats\n",
    "binsize = astats.knuth_bin_width(log10(cmpairs['sep']))\n",
    "bins = logspace(-2,1,3/binsize)\n",
    "\n",
    "c,bins,patches = hist(cmpairs['sep'], bins, log=True, histtype='step',\n",
    "                      label='all', color='k', lw=1.5)\n",
    "_ = hist(cmpairs['sep'][nsize==2], bins, log=True, histtype='step',\n",
    "         label='size=2 (mutually exclusive)', lw=2.5, color=color_size2)\n",
    "_ = hist(cmpairs['sep'][nsize>2], bins, log=True, histtype='step', label='size$>$2', color=color_sizelt2,\n",
    "         lw=1.5)\n",
    "ylabel('count')\n",
    "xlabel('separation [pc]')\n",
    "legend(loc='upper left', fontsize=15, frameon=False)\n",
    "tight_layout()\n",
    "xscale('log')\n",
    "savefig('../paper/figures/hist_sep.pdf')"
   ]
  },
  {
   "cell_type": "code",
   "execution_count": null,
   "metadata": {
    "collapsed": false
   },
   "outputs": [],
   "source": [
    "\n",
    "counts, edges = histogram(log10(cmpairs['sep'][nsize==2]), 32, )\n",
    "centers = (edges[1:]+edges[:-1])*0.5\n",
    "ynew = interpolate.splev(centers, tck, der=0, ext=3)\n",
    "plot(centers, counts, 'ko-')\n",
    "plot(centers, counts*ynew, 'bo-')\n",
    "yscale('log')"
   ]
  },
  {
   "cell_type": "markdown",
   "metadata": {},
   "source": [
    "# Color-Magnitude Diagrams"
   ]
  },
  {
   "cell_type": "code",
   "execution_count": null,
   "metadata": {
    "collapsed": true
   },
   "outputs": [],
   "source": [
    "tmass = fits.getdata('../data/tgas_tmassj.fits', ext=1)"
   ]
  },
  {
   "cell_type": "code",
   "execution_count": null,
   "metadata": {
    "collapsed": false
   },
   "outputs": [],
   "source": [
    "print('number of tgas stars without 2mass J =', isnan(tmass['j_m']).sum())"
   ]
  },
  {
   "cell_type": "code",
   "execution_count": null,
   "metadata": {
    "collapsed": false
   },
   "outputs": [],
   "source": [
    "gjcolor = tgas._data['phot_g_mean_mag']- tmass['j_m']\n",
    "gMag = tgas._data['phot_g_mean_mag'] + 5*(log10(tgas._data['parallax']*1e-3)+1)"
   ]
  },
  {
   "cell_type": "code",
   "execution_count": null,
   "metadata": {
    "collapsed": false
   },
   "outputs": [],
   "source": [
    "# distance matching sample\n",
    "ind_uniq = unique(hstack([cmpairs['star1'], cmpairs['star2']]))\n",
    "print(ind_uniq.size)\n",
    "dpairs = d[ind_uniq]"
   ]
  },
  {
   "cell_type": "code",
   "execution_count": null,
   "metadata": {
    "collapsed": false
   },
   "outputs": [],
   "source": [
    "hist(dpairs)\n",
    "xlabel('distance [pc]')\n",
    "ylabel('count')"
   ]
  },
  {
   "cell_type": "code",
   "execution_count": null,
   "metadata": {
    "collapsed": true
   },
   "outputs": [],
   "source": [
    "from sklearn.neighbors import KDTree"
   ]
  },
  {
   "cell_type": "code",
   "execution_count": null,
   "metadata": {
    "collapsed": false
   },
   "outputs": [],
   "source": [
    "cond = (parallax_snr>8) & ~isnan(tmass['j_m'])\n",
    "d_snr = d[cond]\n",
    "ind_snr = arange(len(tgas))[cond]\n",
    "dtree = KDTree(atleast_2d(d_snr).T)"
   ]
  },
  {
   "cell_type": "code",
   "execution_count": null,
   "metadata": {
    "collapsed": false
   },
   "outputs": [],
   "source": [
    "plot(dpairs, dtree.query_radius(atleast_2d(dpairs).T, 1.5, count_only=True), '.')\n",
    "yscale('log')\n",
    "xlabel('distance')\n",
    "ylabel('N(stars within 1.5pc)')"
   ]
  },
  {
   "cell_type": "code",
   "execution_count": null,
   "metadata": {
    "collapsed": true
   },
   "outputs": [],
   "source": [
    "N_per_star = 10\n",
    "result = dtree.query_radius(atleast_2d(dpairs).T, 1.5,)"
   ]
  },
  {
   "cell_type": "code",
   "execution_count": null,
   "metadata": {
    "collapsed": false
   },
   "outputs": [],
   "source": [
    "ind_control = []\n",
    "for row in result:\n",
    "    if len(row)==0:\n",
    "        continue\n",
    "    ind_control.append(ind_snr[choice(row, size=N_per_star)])\n",
    "ind_control = hstack(ind_control)"
   ]
  },
  {
   "cell_type": "code",
   "execution_count": null,
   "metadata": {
    "collapsed": false
   },
   "outputs": [],
   "source": [
    "d[ind_control]"
   ]
  },
  {
   "cell_type": "code",
   "execution_count": null,
   "metadata": {
    "collapsed": false
   },
   "outputs": [],
   "source": [
    "c,bins,patches=hist(dpairs, normed=True, histtype='step')\n",
    "xlabel('distance [pc]')\n",
    "ylabel('count')\n",
    "hist(d[ind_control], bins=bins, normed=True, histtype='step')"
   ]
  },
  {
   "cell_type": "code",
   "execution_count": null,
   "metadata": {
    "collapsed": false
   },
   "outputs": [],
   "source": [
    "plot(gjcolor[ind_control], gMag[ind_control], 'k,')"
   ]
  },
  {
   "cell_type": "code",
   "execution_count": null,
   "metadata": {
    "collapsed": false
   },
   "outputs": [],
   "source": [
    "c, ye, xe = histogram2d(gjcolor[ind_control], gMag[ind_control], 512,)\n",
    "x,y = meshgrid((xe[1:]+xe[:-1])*0.5, (ye[1:]+ye[:-1])*0.5)\n",
    "pcolormesh(y,x,c, norm=mpl.colors.LogNorm(), cmap='Blues', zorder=-1)\n"
   ]
  },
  {
   "cell_type": "code",
   "execution_count": null,
   "metadata": {
    "collapsed": false
   },
   "outputs": [],
   "source": [
    "def draw_cmd():\n",
    "    c, ye, xe = histogram2d(gjcolor[ind_control], gMag[ind_control], 512,)\n",
    "    x,y = meshgrid((xe[1:]+xe[:-1])*0.5, (ye[1:]+ye[:-1])*0.5)\n",
    "    pcolormesh(y,x,c, norm=mpl.colors.LogNorm(), cmap='Blues', zorder=-1, rasterized=True)\n"
   ]
  },
  {
   "cell_type": "code",
   "execution_count": null,
   "metadata": {
    "collapsed": false
   },
   "outputs": [],
   "source": [
    "# plot color-magnitude diagram with control sample on the background\n",
    "from mpl_toolkits.axes_grid1 import ImageGrid\n",
    "import matplotlib.gridspec as gridspec\n",
    "\n",
    "fig = figure(figsize=(10,4))\n",
    "fig.subplots_adjust(top=0.95, right=0.98, bottom=0.18, left=0.08)\n",
    "ax0 = subplot(121)\n",
    "g = Gc[0]\n",
    "pos = {node:(gjcolor[node],gMag[node]) for node in g.nodes()}\n",
    "nx.draw_networkx(g, pos=pos, node_size=10, width=0, with_labels=False, node_color='k')\n",
    "xlabel(r'$G-J$ [mag]')\n",
    "ylabel(r'$G + 5(\\log \\hat d +1)$ [mag]')\n",
    "text(0.05, 0.05, 'size=%i' % (len(g)),\n",
    "     transform=gca().transAxes, va='bottom', ha='left', size=20)\n",
    "draw_cmd()\n",
    "ax0.set_xlim(-0.5, 2)\n",
    "ax0.set_ylim(8,-1)\n",
    "\n",
    "grid = gridspec.GridSpec(2,2)\n",
    "grid.update(left=0.54, right=0.98)\n",
    "ax = [subplot(i,) for i in grid]\n",
    "for i, gi in enumerate([6,13,37,51]):\n",
    "    g = Gc[gi]\n",
    "    sca(ax[i])\n",
    "    pos = {node:(gjcolor[node],gMag[node]) for node in g.nodes()}\n",
    "    nx.draw_networkx(g, pos=pos, node_size=10, width=0, with_labels=False, ax=ax[i], node_color='k')\n",
    "    ax[i].xaxis.set_major_locator(MaxNLocator(nbins=5,prune='both'))\n",
    "    ax[i].yaxis.set_major_locator(MaxNLocator(nbins=5,prune='both'))\n",
    "    ax[i].text(0.05, 0.05, 'size=%i' % (len(g)), size=15,\n",
    "               transform=ax[i].transAxes, va='bottom', ha='left')\n",
    "    ax[i].tick_params(which='both', labelsize=15)\n",
    "    draw_cmd()\n",
    "\n",
    "[a.set_xlim(-0.5,2.) for a in ax]\n",
    "[a.set_ylim(8,-1) for a in ax]\n",
    "# savefig('../paper/figures/gjg_graphviz_examples.pdf')\n",
    "# savefig('../paper/figures/gjg_graphviz_examples.png', dpi=150)"
   ]
  },
  {
   "cell_type": "code",
   "execution_count": null,
   "metadata": {
    "collapsed": false
   },
   "outputs": [],
   "source": [
    "# plot mutually exclusive pairs in the color-magnitude diagram\n",
    "fig, ax = subplots(1,2, figsize=(10,8))\n",
    "fig.subplots_adjust(left=0.1, right=0.95, bottom=0.1, wspace=0.1)\n",
    "suptitle('mutually exclusive pairs', size=20)\n",
    "\n",
    "nsize = array([len(nx.node_connected_component(graph, s1)) for s1 in cmpairs['star1']])\n",
    "mepairs = cmpairs[(nsize==2)]\n",
    "print(mepairs.size)\n",
    "\n",
    "star1,star2 = mepairs['star1'], mepairs['star2']\n",
    "gj1, gj2 = gjcolor[star1], gjcolor[star2]\n",
    "g1, g2 = gMag[star1], gMag[star2]\n",
    "\n",
    "x = vstack([gj1,gj2,[None]*gj1.size]).T\n",
    "y = vstack([g1,g2,[None]*g1.size]).T\n",
    "\n",
    "sepdivide = 1  # pc\n",
    "\n",
    "sca(ax[0])\n",
    "draw_cmd()\n",
    "l, = plot(x[mepairs['sep']<sepdivide].ravel(),y[mepairs['sep']<sepdivide].ravel(),\n",
    "     'ko-', lw=1., mec='k', mew=0.5, ms=3, mfc='#0072B2')#, rasterized=True)\n",
    "l.set_markerfacecolor((0, 114/256., 178/256., 0.5))\n",
    "\n",
    "xlim(-.25,2.5)\n",
    "ylim(10,-2)\n",
    "\n",
    "xlabel(r'$G-J$ [mag]')\n",
    "ylabel(r'$G + 5(\\log \\hat d +1)$ [mag]')\n",
    "title('separation $<$ %.0f pc (N=%i)' % (sepdivide,(mepairs['sep']<sepdivide).sum()),\n",
    "      size=20)\n",
    "\n",
    "sca(ax[1])\n",
    "draw_cmd()\n",
    "plot(x[mepairs['sep']>sepdivide].ravel(),y[mepairs['sep']>sepdivide].ravel(),\n",
    "     'k.', alpha=.5,)# rasterized=True)\n",
    "xlim(-.25,2.5)\n",
    "ylim(10,-2)\n",
    "xlabel(r'$G-J$ [mag]')\n",
    "title('separation $>$ %.0f pc (N=%i)' % (sepdivide,(mepairs['sep']>sepdivide).sum()),\n",
    "      size=20)\n",
    "savefig('../paper/figures/gjg_mepairs.pdf', dpi=150)"
   ]
  },
  {
   "cell_type": "markdown",
   "metadata": {},
   "source": [
    "# Cross matching to known clusters / OB associations"
   ]
  },
  {
   "cell_type": "code",
   "execution_count": null,
   "metadata": {
    "collapsed": false
   },
   "outputs": [],
   "source": [
    "mwsc = Table.read('../data/J_A+A_585_A101/catalog.dat', readme='../data/J_A+A_585_A101/ReadMe',\n",
    "                 format='ascii.cds')\n",
    "print('total number of mwsc', len(mwsc))\n",
    "print('number of mwsc d<600 pc', (mwsc['d']<600).sum())"
   ]
  },
  {
   "cell_type": "code",
   "execution_count": null,
   "metadata": {
    "collapsed": false
   },
   "outputs": [],
   "source": [
    "obass = Table.read('../data/J_AJ_117_354/tablec1.dat', readme='../data/J_AJ_117_354/ReadMe',\n",
    "                    format='ascii.cds')\n",
    "print('OB association stars', len(obass))"
   ]
  },
  {
   "cell_type": "code",
   "execution_count": null,
   "metadata": {
    "collapsed": true
   },
   "outputs": [],
   "source": [
    "from astroquery.simbad import Simbad"
   ]
  },
  {
   "cell_type": "code",
   "execution_count": null,
   "metadata": {
    "collapsed": false,
    "scrolled": true
   },
   "outputs": [],
   "source": [
    "# query simbad on HIP id's to get coordinates\n",
    "customSimbad = Simbad()\n",
    "customSimbad.add_votable_fields('sptype', 'parallax')\n",
    "result = customSimbad.query_objects(['HIP %i' % hip for hip in obass['HIP']])\n",
    "print( unique([s.decode(\"utf-8\")[0] if len(s)>0 else '?' for s in result['SP_TYPE']]) )"
   ]
  },
  {
   "cell_type": "code",
   "execution_count": null,
   "metadata": {
    "collapsed": false
   },
   "outputs": [],
   "source": [
    "def get_distance(parallax, parallax_error):\n",
    "    \"\"\"\n",
    "    Return the distance [kpc] point estimate with the Lutz-Kelker correction\n",
    "    \n",
    "    parallax : float, in mas\n",
    "    parallax_error : float, in mas\n",
    "    \"\"\"\n",
    "    snr = parallax / parallax_error\n",
    "    pnew = parallax * (0.5 + 0.5*np.sqrt(1 - 16./snr**2))\n",
    "    # if snr<4, the value will be maksed\n",
    "    return 1./pnew\n",
    "\n",
    "obass_dist = get_distance(result['PLX_VALUE'], result['PLX_ERROR'])"
   ]
  },
  {
   "cell_type": "code",
   "execution_count": null,
   "metadata": {
    "collapsed": true
   },
   "outputs": [],
   "source": [
    "obass_c = coords.SkyCoord(result['RA'], result['DEC'], unit=(u.hourangle, u.deg),\n",
    "                          distance=obass_dist*u.pc)"
   ]
  },
  {
   "cell_type": "code",
   "execution_count": null,
   "metadata": {
    "collapsed": true
   },
   "outputs": [],
   "source": [
    "obass_cg = obass_c.transform_to(coords.Galactic)"
   ]
  },
  {
   "cell_type": "code",
   "execution_count": null,
   "metadata": {
    "collapsed": false
   },
   "outputs": [],
   "source": [
    "figure(figsize=(10,6))\n",
    "# plot(d1[condllr], sep[condllr], '.', color='red', alpha=.5)\n",
    "plot(d1[llr>6], sep[llr>6], '.', color='red', alpha=.2)\n",
    "yscale('log')\n",
    "xlabel('$d_1$ [pc]')\n",
    "ylabel('separation [pc]')\n",
    "ylim(0.1, 1.2e2)\n",
    "xlim(0,600)\n",
    "grid()\n",
    "\n",
    "for cc in mwsc['d'][mwsc['d']<600]:\n",
    "    axvline(cc, c='k', lw=1, ymin=0.2, ymax=0.4)\n",
    "# savefig('d1_sep_mwsc.png')"
   ]
  }
 ],
 "metadata": {
  "anaconda-cloud": {},
  "kernelspec": {
   "display_name": "Python [gwb]",
   "language": "python",
   "name": "Python [gwb]"
  },
  "language_info": {
   "codemirror_mode": {
    "name": "ipython",
    "version": 3
   },
   "file_extension": ".py",
   "mimetype": "text/x-python",
   "name": "python",
   "nbconvert_exporter": "python",
   "pygments_lexer": "ipython3",
   "version": "3.5.2"
  }
 },
 "nbformat": 4,
 "nbformat_minor": 1
}
