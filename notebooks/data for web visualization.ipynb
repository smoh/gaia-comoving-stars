{
 "cells": [
  {
   "cell_type": "code",
   "execution_count": 1,
   "metadata": {
    "collapsed": false
   },
   "outputs": [
    {
     "name": "stdout",
     "output_type": "stream",
     "text": [
      "Populating the interactive namespace from numpy and matplotlib\n"
     ]
    }
   ],
   "source": [
    "%pylab inline\n",
    "import h5py\n",
    "import fitsio\n",
    "import astropy.units as u\n",
    "from astropy.io import fits\n",
    "from astropy.table import Table\n",
    "from astropy.visualization import hist\n",
    "from astropy import coordinates as coords\n",
    "from scipy import stats\n",
    "import networkx as nx\n",
    "\n",
    "import gwb"
   ]
  },
  {
   "cell_type": "code",
   "execution_count": 2,
   "metadata": {
    "collapsed": false
   },
   "outputs": [
    {
     "name": "stdout",
     "output_type": "stream",
     "text": [
      "['seaborn-whitegrid', 'seaborn-deep', 'ggplot', 'grayscale', 'seaborn-paper', 'seaborn-bright', 'seaborn-dark', 'seaborn-white', 'seaborn-colorblind', 'seaborn-dark-palette', 'seaborn-talk', 'classic', 'seaborn-darkgrid', 'seaborn-muted', 'dark_background', 'seaborn-pastel', 'seaborn-ticks', 'fivethirtyeight', 'bmh', 'seaborn-notebook', 'seaborn-poster']\n"
     ]
    }
   ],
   "source": [
    "print(style.available)"
   ]
  },
  {
   "cell_type": "code",
   "execution_count": 3,
   "metadata": {
    "collapsed": false
   },
   "outputs": [],
   "source": [
    "style.use(['seaborn-colorblind', 'notebook.mplstyle'])"
   ]
  },
  {
   "cell_type": "markdown",
   "metadata": {},
   "source": [
    "# Load Data"
   ]
  },
  {
   "cell_type": "code",
   "execution_count": 4,
   "metadata": {
    "collapsed": false
   },
   "outputs": [],
   "source": [
    "tgas = gwb.TGASData('../data/stacked_tgas.fits')"
   ]
  },
  {
   "cell_type": "code",
   "execution_count": 5,
   "metadata": {
    "collapsed": false
   },
   "outputs": [],
   "source": [
    "pairidx_rand = fits.getdata('../output/random/snr8_random200000.fits')\n",
    "with h5py.File(\"../output/random/snr8_random200000_vscatter0-lratio.h5\") as f:\n",
    "    lnH1_rand = f['lnH1'].value\n",
    "    lnH2_rand = f['lnH2'].value\n",
    "    llr_rand = lnH1_rand - lnH2_rand\n",
    "# throw out nans\n",
    "bad = isnan(llr_rand)\n",
    "pairidx_rand = pairidx_rand[~bad]\n",
    "lnH1_rand = lnH1_rand[~bad]\n",
    "lnH2_rand = lnH2_rand[~bad]\n",
    "llr_rand = llr_rand[~bad]\n",
    "\n",
    "# pairidx_rand_sn32 = fits.getdata('../output/random/snr32_random100000.fits')\n",
    "# with h5py.File(\"../output/random/snr32_random100000_vscatter0-lratio.h5\") as f:\n",
    "#     lnH1_rand_sn32 = f['lnH1'].value\n",
    "#     lnH2_rand_sn32 = f['lnH2'].value\n",
    "#     llr_rand_sn32 = lnH1_rand_sn32 - lnH2_rand_sn32\n",
    "# # throw out nans\n",
    "# bad = isnan(llr_rand_sn32)\n",
    "# pairidx_rand_sn32 = pairidx_rand_sn32[~bad]\n",
    "# lnH1_rand_sn32 = lnH1_rand_sn32[~bad]\n",
    "# lnH2_rand_sn32 = lnH2_rand_sn32[~bad]\n",
    "# llr_rand_sn32 = llr_rand_sn32[~bad]\n",
    "\n",
    "# pairidx = fits.getdata('../output/21081/snr8_n128_dv10_new.fits')\n",
    "# with h5py.File(\"../output/21081/snr8_n128_dv10_vscatter0-lratio.h5\") as f:\n",
    "#     lnH1 = f['lnH1'].value\n",
    "#     lnH2 = f['lnH2'].value\n",
    "#     llr = lnH1 - lnH2\n",
    "pairidx = fits.getdata('../output/23560/snr8_r10_dv10.fits')\n",
    "with h5py.File(\"../output/23560/snr8_r10_dv10_vscatter0-lratio.h5\") as f:\n",
    "    lnH1 = f['lnH1'].value\n",
    "    lnH2 = f['lnH2'].value\n",
    "    llr = lnH1 - lnH2"
   ]
  },
  {
   "cell_type": "code",
   "execution_count": 6,
   "metadata": {
    "collapsed": false
   },
   "outputs": [
    {
     "name": "stderr",
     "output_type": "stream",
     "text": [
      "/Users/semyeong/projects/gaia-wide-binaries/gwb/data.py:102: RuntimeWarning: invalid value encountered in sqrt\n",
      "  tmp = self._data['parallax'] * (0.5 + 0.5*np.sqrt(1 - 16/snr**2))\n"
     ]
    }
   ],
   "source": [
    "parallax_snr = tgas.parallax_snr\n",
    "vtan = tgas.get_vtan().value\n",
    "c = tgas.get_coord()\n",
    "d = tgas.get_distance().value\n",
    "\n",
    "star1, star2 = pairidx['star1'], pairidx['star2']\n",
    "min_snr = np.min(np.vstack((parallax_snr[star1], parallax_snr[star2])), axis=0)\n",
    "dvtan = norm(vtan[star1]-vtan[star2], axis=1)\n",
    "vtanmean = (vtan[star1] + vtan[star2])*0.5\n",
    "sep = c[star1].separation_3d(c[star2]).value\n",
    "sep_sky = c[star1].separation(c[star2])\n",
    "\n",
    "c1 = c[star1]\n",
    "c2 = c[star2]\n",
    "ra1, dec1 = c1.ra.value, c1.dec.value\n",
    "ra2, dec2 = c2.ra.value, c2.dec.value\n",
    "l1, b1 = c1.transform_to(coords.Galactic).l.value, c1.transform_to(coords.Galactic).b.value\n",
    "l2, b2 = c2.transform_to(coords.Galactic).l.value, c2.transform_to(coords.Galactic).b.value\n",
    "d1 = d[star1]\n",
    "d2 = d[star2]\n",
    "dmean = (d1+d2)*0.5"
   ]
  },
  {
   "cell_type": "code",
   "execution_count": 7,
   "metadata": {
    "collapsed": false
   },
   "outputs": [
    {
     "data": {
      "text/plain": [
       "271232"
      ]
     },
     "execution_count": 7,
     "metadata": {},
     "output_type": "execute_result"
    }
   ],
   "source": [
    "pairidx.size"
   ]
  },
  {
   "cell_type": "code",
   "execution_count": 8,
   "metadata": {
    "collapsed": false
   },
   "outputs": [
    {
     "name": "stdout",
     "output_type": "stream",
     "text": [
      "13058 377\n"
     ]
    }
   ],
   "source": [
    "cond_lr_cut = llr>6\n",
    "print(cond_lr_cut.sum(), sum((sep<1)&cond_lr_cut))\n",
    "cmpairs = pairidx[cond_lr_cut]"
   ]
  },
  {
   "cell_type": "code",
   "execution_count": 9,
   "metadata": {
    "collapsed": false,
    "scrolled": true
   },
   "outputs": [
    {
     "data": {
      "text/plain": [
       "(3.4999999999999997e-05, 0.0001199760047990402)"
      ]
     },
     "execution_count": 9,
     "metadata": {},
     "output_type": "execute_result"
    }
   ],
   "source": [
    "sum(llr_rand>6)/llr_rand.size, sum((llr_rand>6) & (pairidx_rand['delta_v']<10))/(pairidx_rand['delta_v']<10).sum()"
   ]
  },
  {
   "cell_type": "code",
   "execution_count": 78,
   "metadata": {
    "collapsed": true
   },
   "outputs": [],
   "source": [
    "tmass = fits.getdata('/Users/semyeong/data/gaia/tgas_source/tgas-matched-2mass.fits')\n",
    "# tmass = fits.getdata('../data/tgas_tmassj.fits', ext=1)"
   ]
  },
  {
   "cell_type": "code",
   "execution_count": 79,
   "metadata": {
    "collapsed": false
   },
   "outputs": [
    {
     "name": "stderr",
     "output_type": "stream",
     "text": [
      "/Users/semyeong/anaconda2/envs/py35/lib/python3.5/site-packages/ipykernel/__main__.py:3: RuntimeWarning: invalid value encountered in log10\n",
      "  app.launch_new_instance()\n"
     ]
    }
   ],
   "source": [
    "# gjcolor = tgas._data['phot_g_mean_mag']- tmass['j_m']\n",
    "gjcolor = tgas._data['phot_g_mean_mag']- tmass['j_mag']\n",
    "gMag = tgas._data['phot_g_mean_mag'] + 5*(log10(tgas._data['parallax']*1e-3)+1)"
   ]
  },
  {
   "cell_type": "markdown",
   "metadata": {},
   "source": [
    "# Examine the network of pairs"
   ]
  },
  {
   "cell_type": "code",
   "execution_count": 80,
   "metadata": {
    "collapsed": true
   },
   "outputs": [],
   "source": [
    "edgelist = [(int(i),int(j)) for i,j in zip(cmpairs['star1'][:],cmpairs['star2'][:])]\n",
    "nodes = unique(edgelist).astype(int)"
   ]
  },
  {
   "cell_type": "code",
   "execution_count": 111,
   "metadata": {
    "collapsed": false
   },
   "outputs": [],
   "source": [
    "g = nx.Graph()"
   ]
  },
  {
   "cell_type": "code",
   "execution_count": 112,
   "metadata": {
    "collapsed": false
   },
   "outputs": [
    {
     "name": "stderr",
     "output_type": "stream",
     "text": [
      "/Users/semyeong/projects/gaia-wide-binaries/gwb/data.py:102: RuntimeWarning: invalid value encountered in sqrt\n",
      "  tmp = self._data['parallax'] * (0.5 + 0.5*np.sqrt(1 - 16/snr**2))\n"
     ]
    }
   ],
   "source": [
    "colra = tgas.ra.value\n",
    "coldec = tgas.dec.value\n",
    "colglon = tgas.l\n",
    "colglat = tgas.b\n",
    "coldist = tgas.get_distance().value\n",
    "colgj = gjcolor\n",
    "colgMag = gMag\n"
   ]
  },
  {
   "cell_type": "code",
   "execution_count": 113,
   "metadata": {
    "collapsed": false
   },
   "outputs": [],
   "source": [
    "nodes_attr = []\n",
    "for node in nodes:\n",
    "    if ~(isnan(colgj[node]) or isnan(colgMag[node])):\n",
    "        attr=dict(ra=colra[node],\n",
    "                  dec=coldec[node],\n",
    "                  glon=colglon[node],\n",
    "                  glat=colglat[node],\n",
    "                  dist=coldist[node],\n",
    "                  gj=colgj[node],\n",
    "                  gMag=colgMag[node])\n",
    "        nodes_attr.append((int(node),attr))"
   ]
  },
  {
   "cell_type": "code",
   "execution_count": 114,
   "metadata": {
    "collapsed": false
   },
   "outputs": [],
   "source": [
    "g.add_nodes_from(nodes_attr)\n",
    "g.add_edges_from(edgelist)"
   ]
  },
  {
   "cell_type": "code",
   "execution_count": 115,
   "metadata": {
    "collapsed": false
   },
   "outputs": [
    {
     "data": {
      "text/plain": [
       "10606"
      ]
     },
     "execution_count": 115,
     "metadata": {},
     "output_type": "execute_result"
    }
   ],
   "source": [
    "len(g.nodes())"
   ]
  },
  {
   "cell_type": "code",
   "execution_count": 49,
   "metadata": {
    "collapsed": false
   },
   "outputs": [
    {
     "data": {
      "text/plain": [
       "149"
      ]
     },
     "execution_count": 49,
     "metadata": {},
     "output_type": "execute_result"
    }
   ],
   "source": [
    "isnan(colgj[nodes]).sum()"
   ]
  },
  {
   "cell_type": "code",
   "execution_count": 127,
   "metadata": {
    "collapsed": false
   },
   "outputs": [],
   "source": [
    "dic={n:groupi for groupi, g in enumerate(sorted(nx.connected_components(g), key=len, reverse=True)) for n in g}\n",
    "nx.set_node_attributes(g, 'group', dic)"
   ]
  },
  {
   "cell_type": "code",
   "execution_count": 137,
   "metadata": {
    "collapsed": false
   },
   "outputs": [],
   "source": [
    "subgraphs = array(sorted(nx.connected_component_subgraphs(g, copy=True), key=len, reverse=True))\n",
    "sizes = array([len(a) for a in subgraphs])\n",
    "gsmall = nx.union_all(subgraphs[:100])\n"
   ]
  },
  {
   "cell_type": "code",
   "execution_count": 125,
   "metadata": {
    "collapsed": false
   },
   "outputs": [],
   "source": [
    "import json\n",
    "from networkx.readwrite import json_graph"
   ]
  },
  {
   "cell_type": "code",
   "execution_count": 138,
   "metadata": {
    "collapsed": true
   },
   "outputs": [],
   "source": [
    "data = json_graph.node_link_data(gsmall)\n",
    "# do not use numpy.int64, use python native int"
   ]
  },
  {
   "cell_type": "code",
   "execution_count": 139,
   "metadata": {
    "collapsed": false
   },
   "outputs": [],
   "source": [
    "with open('../../mywebpage/vis/gaia-comoving-stars/data.json', 'w') as f:\n",
    "    f.write(json.dumps(data,sort_keys=True,separators=(',',':')))"
   ]
  },
  {
   "cell_type": "code",
   "execution_count": null,
   "metadata": {
    "collapsed": true
   },
   "outputs": [],
   "source": []
  },
  {
   "cell_type": "code",
   "execution_count": null,
   "metadata": {
    "collapsed": false
   },
   "outputs": [],
   "source": [
    "connected = array([array(list(c)) for c in nx.connected_components(graph)])\n",
    "sizes = array([len(c) for c in nx.connected_components(graph)])\n",
    "print('number of nodes %i' % (len(graph)))\n",
    "print('total number of connected components %i' % (connected.size))\n",
    "print(min(sizes),max(sizes))"
   ]
  },
  {
   "cell_type": "code",
   "execution_count": null,
   "metadata": {
    "collapsed": false
   },
   "outputs": [],
   "source": [
    "nn_nodes = array([len(graph.neighbors(i)) for i in graph.nodes()])\n",
    "print('most connected star ind %i connection size %i' % (graph.nodes()[nn_nodes.argmax()], nn_nodes.max()))\n",
    "print(tgas[graph.nodes()[nn_nodes.argmax()]]._data)"
   ]
  },
  {
   "cell_type": "code",
   "execution_count": null,
   "metadata": {
    "collapsed": false
   },
   "outputs": [],
   "source": [
    "subgraphs = list(nx.connected_component_subgraphs(graph))"
   ]
  },
  {
   "cell_type": "code",
   "execution_count": null,
   "metadata": {
    "collapsed": false
   },
   "outputs": [],
   "source": [
    "import json\n",
    "from networkx.readwrite import json_graph"
   ]
  },
  {
   "cell_type": "code",
   "execution_count": null,
   "metadata": {
    "collapsed": false
   },
   "outputs": [],
   "source": [
    "graph = nx.from_edgelist(\n",
    "    [(int(i),int(j)) for i,j in zip(cmpairs['star1'][:500],cmpairs['star2'][:500])])\n",
    "data = json_graph.node_link_data(graph)"
   ]
  },
  {
   "cell_type": "code",
   "execution_count": null,
   "metadata": {
    "collapsed": false
   },
   "outputs": [],
   "source": [
    "data.keys()"
   ]
  },
  {
   "cell_type": "code",
   "execution_count": null,
   "metadata": {
    "collapsed": false
   },
   "outputs": [],
   "source": [
    "type(data['nodes'][0]['id'])"
   ]
  },
  {
   "cell_type": "code",
   "execution_count": null,
   "metadata": {
    "collapsed": false
   },
   "outputs": [],
   "source": [
    "with open('../../gwb-web/data.json', 'w') as f:\n",
    "    f.write(json.dumps(data, indent=4, sort_keys=True))"
   ]
  },
  {
   "cell_type": "code",
   "execution_count": null,
   "metadata": {
    "collapsed": true
   },
   "outputs": [],
   "source": [
    "# sorted list of subgraphs from largest to smallest\n",
    "Gc = array(sorted(nx.connected_component_subgraphs(graph), key=len, reverse=True))\n",
    "sizes = array([len(g) for g in Gc])"
   ]
  },
  {
   "cell_type": "code",
   "execution_count": null,
   "metadata": {
    "collapsed": false
   },
   "outputs": [],
   "source": [
    "a = array(Gc[6].nodes())\n",
    "plot(tgas.l[a], tgas.get_distance()[a], '.')\n",
    "plot(mwsc['GLON'], mwsc['d'], 'ro')\n",
    "for cl in mwsc[\n",
    "    (mwsc['d']<d[a].max()) & (mwsc['d']>d[a].min()) & (mwsc['GLON']>tgas.l[a].min()) & (mwsc['GLON']<tgas.l[a].max())]:\n",
    "    text(cl['GLON'], cl['d'], cl['Name'].replace('_', ' '))\n",
    "xlim(tgas.l[a].min()*0.9, tgas.l[a].max()*1.1)\n",
    "ylim(d[a].min()*0.9, d[a].max()*1.1)"
   ]
  },
  {
   "cell_type": "code",
   "execution_count": 5,
   "metadata": {
    "collapsed": false,
    "scrolled": true
   },
   "outputs": [
    {
     "name": "stdout",
     "output_type": "stream",
     "text": [
      "total number of mwsc 3210\n",
      "number of mwsc d<600 pc 135\n"
     ]
    }
   ],
   "source": [
    "mwsc = Table.read('../data/J_A+A_585_A101/catalog.dat', readme='../data/J_A+A_585_A101/ReadMe',\n",
    "                 format='ascii.cds')\n",
    "print('total number of mwsc', len(mwsc))\n",
    "print('number of mwsc d<600 pc', (mwsc['d']<600).sum())"
   ]
  },
  {
   "cell_type": "code",
   "execution_count": 6,
   "metadata": {
    "collapsed": false
   },
   "outputs": [],
   "source": [
    "mwsc['MWSC', 'Name', 'GLON', 'GLAT', 'd'].write('../../gwb-web/mwsc.csv', format='ascii.csv')"
   ]
  },
  {
   "cell_type": "code",
   "execution_count": null,
   "metadata": {
    "collapsed": false
   },
   "outputs": [],
   "source": [
    "figure(figsize=(10,5))\n",
    "\n",
    "pairs = array([list(g.nodes()) for g in Gc[sizes==2]])\n",
    "x = hstack([tgas.l[pairs], array([None]*pairs.shape[0])[:,None]])\n",
    "y = hstack([d[pairs], array([None]*pairs.shape[0])[:,None]])\n",
    "# manipulate GLON\n",
    "x[:,:-1].sort(axis=1)\n",
    "x[:,1][x[:,1]-x[:,0]>180] -= 360.\n",
    "plot(x.ravel(),y.ravel(), alpha=.3, c='k', label='size 2')\n",
    "\n",
    "pairs = array([list(g.nodes()) for g in Gc[sizes==3]])\n",
    "x = hstack([tgas.l[pairs], array([None]*pairs.shape[0])[:,None]])\n",
    "y = hstack([d[pairs], array([None]*pairs.shape[0])[:,None]])\n",
    "# manipulate GLON\n",
    "x[:,:-1].sort(axis=1)\n",
    "for i in range(x.shape[1]-1):\n",
    "    x[:,i][x[:,i]-x[:,0]>180] -= 360.\n",
    "plot(x.ravel(), y.ravel(), alpha=.7, c='b', label='size 3')\n",
    "\n",
    "for s in Gc[sizes>=4]:\n",
    "    plot(tgas.l[s], d[s], '.', c=cm.spectral(uniform()))\n",
    "    \n",
    "for cc, ll in mwsc['d', 'GLON'][mwsc['d']<600]:\n",
    "    l, = plot(ll, cc, 'ro', ms=8, mfc='None', mec='k', mew=1,)\n",
    "    \n",
    "xlim(0,360)\n",
    "ylim(0,500)\n",
    "# leg = legend(loc='upper left')\n",
    "\n",
    "xlabel('Galactic longtidude [deg]')\n",
    "ylabel('distance [pc]')"
   ]
  },
  {
   "cell_type": "code",
   "execution_count": null,
   "metadata": {
    "collapsed": true
   },
   "outputs": [],
   "source": [
    "mwsc.sort('d')"
   ]
  },
  {
   "cell_type": "code",
   "execution_count": null,
   "metadata": {
    "collapsed": true
   },
   "outputs": [],
   "source": [
    "mwsc.show_in_browser()"
   ]
  },
  {
   "cell_type": "code",
   "execution_count": null,
   "metadata": {
    "collapsed": false
   },
   "outputs": [],
   "source": [
    "where((llr>6) & (l1>90) & (l1<120) & (abs(l1-l2)>180))"
   ]
  },
  {
   "cell_type": "code",
   "execution_count": null,
   "metadata": {
    "collapsed": false
   },
   "outputs": [],
   "source": [
    "pairidx[12749]"
   ]
  },
  {
   "cell_type": "code",
   "execution_count": null,
   "metadata": {
    "collapsed": false
   },
   "outputs": [],
   "source": [
    "print( tgas[704255] )\n",
    "print( tgas[704255].get_coord().transform_to(coords.Galactic) )\n",
    "print( tgas[1325999] )\n",
    "print( tgas[1325999].get_coord().transform_to(coords.Galactic) )\n"
   ]
  },
  {
   "cell_type": "code",
   "execution_count": null,
   "metadata": {
    "collapsed": false
   },
   "outputs": [],
   "source": [
    "tgas[704255].get_coord().separation_3d(tgas[1325999].get_coord())"
   ]
  },
  {
   "cell_type": "code",
   "execution_count": null,
   "metadata": {
    "collapsed": false
   },
   "outputs": [],
   "source": [
    "tgas[704255].l, d[704255], tgas[1325999].l, d[1325999]"
   ]
  },
  {
   "cell_type": "markdown",
   "metadata": {},
   "source": [
    "# Color-Magnitude Diagrams"
   ]
  },
  {
   "cell_type": "code",
   "execution_count": null,
   "metadata": {
    "collapsed": true
   },
   "outputs": [],
   "source": [
    "tmass = fits.getdata('/Users/semyeong/data/gaia/tgas_source/tgas-matched-2mass.fits')"
   ]
  },
  {
   "cell_type": "code",
   "execution_count": null,
   "metadata": {
    "collapsed": false
   },
   "outputs": [],
   "source": [
    "gjcolor = tgas._data['phot_g_mean_mag']- tmass['j_mag']\n",
    "gMag = tgas._data['phot_g_mean_mag'] + 5*(log10(tgas._data['parallax']*1e-3)+1)"
   ]
  },
  {
   "cell_type": "code",
   "execution_count": null,
   "metadata": {
    "collapsed": false
   },
   "outputs": [],
   "source": [
    "# distance matching sample\n",
    "ind_uniq = unique(hstack([cmpairs['star1'], cmpairs['star2']]))\n",
    "print(ind_uniq.size)\n",
    "dpairs = d[ind_uniq]"
   ]
  },
  {
   "cell_type": "code",
   "execution_count": null,
   "metadata": {
    "collapsed": false
   },
   "outputs": [],
   "source": [
    "hist(dpairs)\n",
    "xlabel('distance [pc]')\n",
    "ylabel('count')"
   ]
  },
  {
   "cell_type": "code",
   "execution_count": null,
   "metadata": {
    "collapsed": true
   },
   "outputs": [],
   "source": [
    "from sklearn.neighbors import KDTree"
   ]
  },
  {
   "cell_type": "code",
   "execution_count": null,
   "metadata": {
    "collapsed": false
   },
   "outputs": [],
   "source": [
    "cond = (parallax_snr>8) & tmass['matched']\n",
    "d_snr = d[cond]\n",
    "ind_snr = arange(len(tgas))[cond]\n",
    "dtree = KDTree(atleast_2d(d_snr).T)"
   ]
  },
  {
   "cell_type": "code",
   "execution_count": null,
   "metadata": {
    "collapsed": false
   },
   "outputs": [],
   "source": [
    "plot(dpairs, dtree.query_radius(atleast_2d(dpairs).T, 1.5, count_only=True), '.')\n",
    "yscale('log')\n",
    "xlabel('distance')\n",
    "ylabel('N(stars within 1.5pc)')"
   ]
  },
  {
   "cell_type": "code",
   "execution_count": null,
   "metadata": {
    "collapsed": true
   },
   "outputs": [],
   "source": [
    "N_per_star = 10\n",
    "result = dtree.query_radius(atleast_2d(dpairs).T, 1.5,)"
   ]
  },
  {
   "cell_type": "code",
   "execution_count": null,
   "metadata": {
    "collapsed": false
   },
   "outputs": [],
   "source": [
    "ind_control = []\n",
    "for row in result:\n",
    "    if len(row)==0:\n",
    "        continue\n",
    "    ind_control.append(ind_snr[choice(row, size=N_per_star)])\n",
    "ind_control = hstack(ind_control)"
   ]
  },
  {
   "cell_type": "code",
   "execution_count": null,
   "metadata": {
    "collapsed": false
   },
   "outputs": [],
   "source": [
    "d[ind_control]"
   ]
  },
  {
   "cell_type": "code",
   "execution_count": null,
   "metadata": {
    "collapsed": false
   },
   "outputs": [],
   "source": [
    "c,bins,patches=hist(dpairs, normed=True, histtype='step')\n",
    "xlabel('distance [pc]')\n",
    "ylabel('count')\n",
    "hist(d[ind_control], bins=bins, normed=True, histtype='step')"
   ]
  },
  {
   "cell_type": "code",
   "execution_count": null,
   "metadata": {
    "collapsed": false
   },
   "outputs": [],
   "source": [
    "plot(gjcolor[ind_control], gMag[ind_control], 'k,')"
   ]
  },
  {
   "cell_type": "code",
   "execution_count": null,
   "metadata": {
    "collapsed": false
   },
   "outputs": [],
   "source": [
    "c, ye, xe = histogram2d(gjcolor[ind_control], gMag[ind_control], 512,)\n",
    "x,y = meshgrid((xe[1:]+xe[:-1])*0.5, (ye[1:]+ye[:-1])*0.5)\n",
    "pcolormesh(y,x,c, norm=mpl.colors.LogNorm(), cmap='Blues', zorder=-1)\n"
   ]
  },
  {
   "cell_type": "code",
   "execution_count": null,
   "metadata": {
    "collapsed": false
   },
   "outputs": [],
   "source": [
    "def draw_cmd():\n",
    "    c, ye, xe = histogram2d(gjcolor[ind_control], gMag[ind_control], 512,)\n",
    "    x,y = meshgrid((xe[1:]+xe[:-1])*0.5, (ye[1:]+ye[:-1])*0.5)\n",
    "    pcolormesh(y,x,c, norm=mpl.colors.LogNorm(), cmap='Blues', zorder=-1)\n"
   ]
  },
  {
   "cell_type": "code",
   "execution_count": null,
   "metadata": {
    "collapsed": false
   },
   "outputs": [],
   "source": [
    "(mepairs['sep']<1).sum()"
   ]
  }
 ],
 "metadata": {
  "anaconda-cloud": {},
  "kernelspec": {
   "display_name": "Python [conda env:py35]",
   "language": "python",
   "name": "conda-env-py35-py"
  },
  "language_info": {
   "codemirror_mode": {
    "name": "ipython",
    "version": 3
   },
   "file_extension": ".py",
   "mimetype": "text/x-python",
   "name": "python",
   "nbconvert_exporter": "python",
   "pygments_lexer": "ipython3",
   "version": "3.5.2"
  }
 },
 "nbformat": 4,
 "nbformat_minor": 1
}
