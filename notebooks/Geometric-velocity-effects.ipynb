{
 "cells": [
  {
   "cell_type": "code",
   "execution_count": null,
   "metadata": {
    "collapsed": true
   },
   "outputs": [],
   "source": [
    "import astropy.coordinates as coord\n",
    "import astropy.units as u\n",
    "import numpy as np\n",
    "import matplotlib.pyplot as plt\n",
    "plt.style.use('apw-notebook')\n",
    "%matplotlib inline\n",
    "\n",
    "from scipy.stats import binned_statistic, scoreatpercentile"
   ]
  },
  {
   "cell_type": "markdown",
   "metadata": {},
   "source": [
    "First generate a bunch of uniform positions within a sphere of radius 200 pc:"
   ]
  },
  {
   "cell_type": "code",
   "execution_count": null,
   "metadata": {
    "collapsed": true
   },
   "outputs": [],
   "source": [
    "def get_isotropic_angles(size=1):\n",
    "    phi = np.random.uniform(0, 360, size=N) * u.deg\n",
    "    theta = np.arccos(2*np.random.uniform(size=N) - 1) * u.rad\n",
    "    return {'phi': phi, 'theta': theta}"
   ]
  },
  {
   "cell_type": "code",
   "execution_count": null,
   "metadata": {
    "collapsed": true
   },
   "outputs": [],
   "source": [
    "def get_stats(dx, v_mag, size, n_bins=16):\n",
    "    # First make a bunch of isotropic, uniform comoving pairs within a sphere\n",
    "    r = 200*u.pc * np.cbrt(np.random.uniform(size=N))\n",
    "    pos1 = coord.PhysicsSphericalRepresentation(r=r, **get_isotropic_angles(size=N))\n",
    "\n",
    "    r = dx * np.ones(N)\n",
    "    pos2 = pos1 + coord.PhysicsSphericalRepresentation(r=r, **get_isotropic_angles(size=N)) \n",
    "\n",
    "    v_basis = coord.PhysicsSphericalRepresentation(r=np.ones(N), **get_isotropic_angles(size=N)) \n",
    "    v_basis = v_basis.represent_as(coord.CartesianRepresentation).xyz\n",
    "    v = coord.CartesianDifferential(v_mag * v_basis)\n",
    "\n",
    "    icrs1 = coord.ICRS(pos1.represent_as(coord.CartesianRepresentation)\n",
    "                           .with_differentials(v))\n",
    "    icrs2 = coord.ICRS(pos2.represent_as(coord.CartesianRepresentation)\n",
    "                           .with_differentials(v))\n",
    "    \n",
    "    # compute \u2206\u00b5 and \u2206vtan\n",
    "    dpm = np.sqrt((icrs1.pm_ra_cosdec-icrs2.pm_ra_cosdec)**2 + (icrs1.pm_dec - icrs2.pm_dec)**2)\n",
    "    dvtan = (dpm * icrs1.distance).to(u.km/u.s, u.dimensionless_angles())\n",
    "    \n",
    "    # compute binned stats\n",
    "    bins = np.linspace(0, 200+(200/n_bins/2), n_bins)\n",
    "    \n",
    "    res = dict(dpm=[], dvtan=[])\n",
    "    res['dpm'].append(binned_statistic(icrs1.distance.to(u.pc).value, \n",
    "                                       dpm.to(u.mas/u.yr).value, \n",
    "                                       bins=bins, statistic=np.median))\n",
    "    res['dpm'].append(binned_statistic(icrs1.distance.to(u.pc).value, \n",
    "                                       dpm.to(u.mas/u.yr).value, \n",
    "                                       bins=bins, statistic=lambda x: scoreatpercentile(x, 5)))\n",
    "    res['dpm'].append(binned_statistic(icrs1.distance.to(u.pc).value, \n",
    "                                       dpm.to(u.mas/u.yr).value, \n",
    "                                       bins=bins, statistic=lambda x: scoreatpercentile(x, 95)))\n",
    "    \n",
    "    res['dvtan'].append(binned_statistic(icrs1.distance.to(u.pc).value, \n",
    "                                         dvtan.value, \n",
    "                                         bins=bins, statistic=np.median))\n",
    "    res['dvtan'].append(binned_statistic(icrs1.distance.to(u.pc).value, \n",
    "                                         dvtan.value, \n",
    "                                         bins=bins, statistic=lambda x: scoreatpercentile(x, 5)))\n",
    "    res['dvtan'].append(binned_statistic(icrs1.distance.to(u.pc).value, \n",
    "                                         dvtan.value, \n",
    "                                         bins=bins, statistic=lambda x: scoreatpercentile(x, 95)))\n",
    "    \n",
    "    res['x'] = 0.5 * (bins[1:] + bins[:-1])\n",
    "    \n",
    "    return res"
   ]
  },
  {
   "cell_type": "code",
   "execution_count": null,
   "metadata": {
    "collapsed": true
   },
   "outputs": [],
   "source": [
    "colors = ['tab:blue', 'tab:orange', 'tab:green']"
   ]
  },
  {
   "cell_type": "code",
   "execution_count": null,
   "metadata": {},
   "outputs": [],
   "source": [
    "fig,axes = plt.subplots(2, 1, figsize=(6,8), sharex=True)\n",
    "\n",
    "for i,v in enumerate([100, 30, 5]*u.km/u.s):\n",
    "    stats = get_stats(dx=1*u.pc, v_mag=v, size=1E6, n_bins=21)\n",
    "    for j,name in enumerate(['dpm', 'dvtan']):\n",
    "        axes[j].plot(stats['x'], stats[name][0].statistic, \n",
    "                     label='$v-v_\\odot = {0.value:.0f}$ {0.unit:latex_inline}'.format(v),\n",
    "                     marker='', linestyle='-', linewidth=2, color=colors[i], zorder=10)\n",
    "        axes[j].fill_between(stats['x'], stats[name][1].statistic, stats[name][2].statistic,\n",
    "                             color=colors[i], alpha=0.5, zorder=1, linewidth=0)\n",
    "    \n",
    "axes[0].set_yscale('log')\n",
    "axes[0].set_ylim(1E-2, 1E2)\n",
    "axes[0].set_yticks(10. ** np.arange(-2, 2+1, 1))\n",
    "axes[0].set_yticklabels([0.01, 0.1, 1, 10, 100])\n",
    "axes[0].set_ylabel(r'$|\\Delta\\bar{{\\mu}}|$ [{0:latex_inline}]'.format(u.mas/u.yr))\n",
    "axes[0].legend(loc='upper right', fontsize=14)\n",
    "axes[0].set_title(r'$|\\Delta\\bar{x}| = 1$ [pc]', fontsize=22)\n",
    "\n",
    "axes[1].set_yscale('log')\n",
    "axes[1].set_ylim(1E-2, 5E1)\n",
    "axes[1].set_xlim(0, 200)\n",
    "axes[1].set_yticks(10. ** np.arange(-2, 1+1, 1))\n",
    "axes[1].set_yticklabels([0.01, 0.1, 1, 10])\n",
    "axes[1].set_ylabel(r'$|\\Delta\\bar{{v}}_{{\\rm tan}}|$ [{0:latex_inline}]'.format(u.km/u.s))\n",
    "\n",
    "axes[1].set_xlabel(r'distance, $d_\\odot$ [{0}]'.format(u.pc))\n",
    "\n",
    "fig.tight_layout()"
   ]
  },
  {
   "cell_type": "code",
   "execution_count": null,
   "metadata": {},
   "outputs": [],
   "source": [
    "fig,axes = plt.subplots(2, 1, figsize=(6,8), sharex=True)\n",
    "\n",
    "for i,dx in enumerate([10, 1, 0.1]*u.pc):\n",
    "    stats = get_stats(dx=dx, v_mag=30*u.km/u.s, size=1E6, n_bins=21)\n",
    "    for j,name in enumerate(['dpm', 'dvtan']):\n",
    "        label = r'$|\\Delta\\bar{{x}}| = {0.value:.0f}$ {0.unit:latex_inline}'.format(dx)\n",
    "        if i == 2:\n",
    "            label = r'$|\\Delta\\bar{{x}}| = {0.value:.1f}$ {0.unit:latex_inline}'.format(dx)\n",
    "        axes[j].plot(stats['x'], stats[name][0].statistic, label=label,\n",
    "                     marker='', linestyle='-', linewidth=2, color=colors[i], zorder=10)\n",
    "        axes[j].fill_between(stats['x'], stats[name][1].statistic, stats[name][2].statistic,\n",
    "                             color=colors[i], alpha=0.5, zorder=1, linewidth=0)\n",
    "    \n",
    "axes[0].set_yscale('log')\n",
    "axes[0].set_ylim(5E-2, 5E2)\n",
    "axes[0].set_yticks(10. ** np.arange(-2, 2+1, 1))\n",
    "axes[0].set_yticklabels([0.01, 0.1, 1, 10, 100])\n",
    "axes[0].set_ylabel(r'$|\\Delta\\bar{{\\mu}}|$ [{0:latex_inline}]'.format(u.mas/u.yr))\n",
    "axes[0].legend(loc='upper right', fontsize=14)\n",
    "axes[0].set_title(r'$v-v_\\odot = 30$ [{0:latex_inline}]'.format(u.km/u.s), fontsize=22)\n",
    "\n",
    "axes[1].set_yscale('log')\n",
    "axes[1].set_ylim(1E-2, 5E1)\n",
    "axes[1].set_xlim(0, 200)\n",
    "axes[1].set_yticks(10. ** np.arange(-2, 1+1, 1))\n",
    "axes[1].set_yticklabels([0.01, 0.1, 1, 10])\n",
    "axes[1].set_ylabel(r'$|\\Delta\\bar{{v}}_{{\\rm tan}}|$ [{0:latex_inline}]'.format(u.km/u.s))\n",
    "\n",
    "axes[1].set_xlabel(r'distance, $d_\\odot$ [{0}]'.format(u.pc))\n",
    "\n",
    "fig.tight_layout()"
   ]
  },
  {
   "cell_type": "code",
   "execution_count": null,
   "metadata": {
    "collapsed": true
   },
   "outputs": [],
   "source": []
  }
 ],
 "metadata": {
  "kernelspec": {
   "display_name": "Python [default]",
   "language": "python",
   "name": "python3"
  },
  "language_info": {
   "codemirror_mode": {
    "name": "ipython",
    "version": 3
   },
   "file_extension": ".py",
   "mimetype": "text/x-python",
   "name": "python",
   "nbconvert_exporter": "python",
   "pygments_lexer": "ipython3",
   "version": "3.6.1"
  }
 },
 "nbformat": 4,
 "nbformat_minor": 2
}